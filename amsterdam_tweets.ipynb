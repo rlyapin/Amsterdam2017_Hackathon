{
 "cells": [
  {
   "cell_type": "code",
   "execution_count": 1,
   "metadata": {
    "collapsed": true
   },
   "outputs": [],
   "source": [
    "from tweepy.streaming import StreamListener\n",
    "from tweepy import OAuthHandler\n",
    "from tweepy import Stream\n",
    "import json"
   ]
  },
  {
   "cell_type": "code",
   "execution_count": 2,
   "metadata": {
    "collapsed": true
   },
   "outputs": [],
   "source": [
    "access_token = \"\"\n",
    "access_token_secret = \"\"\n",
    "consumer_key = \"\"\n",
    "consumer_secret = \"\""
   ]
  },
  {
   "cell_type": "code",
   "execution_count": 3,
   "metadata": {
    "collapsed": true
   },
   "outputs": [],
   "source": [
    "geo_dump = open(\"amsterdam_tweets_loc.txt\", \"a\")"
   ]
  },
  {
   "cell_type": "code",
   "execution_count": 13,
   "metadata": {},
   "outputs": [],
   "source": [
    "class ExtractGeoListener(StreamListener):\n",
    "\n",
    "    def on_data(self, tweet):\n",
    "        tweet_json = json.loads(tweet)\n",
    "        coordinates = tweet_json[\"coordinates\"]\n",
    "        if coordinates is not None:\n",
    "            try:\n",
    "                tweet_info = \" \".join([str(x) for x in coordinates[\"coordinates\"]])\n",
    "                tweet_info += \" \" + str(tweet_json[\"id\"])\n",
    "                tweet_info += \" \" + str(tweet_json[\"created_at\"])\n",
    "                geo_dump.write(tweet_info + \"\\n\")\n",
    "            except:\n",
    "                pass\n",
    "    \n",
    "    def on_error(self, status):\n",
    "        print status"
   ]
  },
  {
   "cell_type": "code",
   "execution_count": 14,
   "metadata": {
    "collapsed": true
   },
   "outputs": [],
   "source": [
    "l = ExtractGeoListener()\n",
    "auth = OAuthHandler(consumer_key, consumer_secret)\n",
    "auth.set_access_token(access_token, access_token_secret)\n",
    "stream = Stream(auth, l)"
   ]
  },
  {
   "cell_type": "markdown",
   "metadata": {},
   "source": [
    "Nice resource to get Amsterdam coordinates: http://gps-coordinates.org/amsterdam-latitude.php"
   ]
  },
  {
   "cell_type": "code",
   "execution_count": 15,
   "metadata": {
    "collapsed": true
   },
   "outputs": [],
   "source": [
    "amsterdam_loc = [4.7,52.2,5.1,52.5]\n",
    "sf_loc = [-122.75,36.8,-121.75,37.8]"
   ]
  },
  {
   "cell_type": "code",
   "execution_count": null,
   "metadata": {},
   "outputs": [],
   "source": [
    "stream.filter(locations=amsterdam_loc)"
   ]
  }
 ],
 "metadata": {
  "kernelspec": {
   "display_name": "Python [conda root]",
   "language": "python",
   "name": "conda-root-py"
  },
  "language_info": {
   "codemirror_mode": {
    "name": "ipython",
    "version": 2
   },
   "file_extension": ".py",
   "mimetype": "text/x-python",
   "name": "python",
   "nbconvert_exporter": "python",
   "pygments_lexer": "ipython2",
   "version": "2.7.13"
  }
 },
 "nbformat": 4,
 "nbformat_minor": 2
}
